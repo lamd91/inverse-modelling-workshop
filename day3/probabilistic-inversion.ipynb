{
 "cells": [
  {
   "cell_type": "code",
   "execution_count": 93,
   "metadata": {},
   "outputs": [],
   "source": [
    "import numpy as np\n",
    "import scipy.io as sio\n",
    "import matplotlib\n",
    "import matplotlib.pyplot as plt\n",
    "%matplotlib inline"
   ]
  },
  {
   "cell_type": "markdown",
   "metadata": {},
   "source": [
    "# Exercise 5: Probabilistic inversion"
   ]
  },
  {
   "cell_type": "markdown",
   "metadata": {},
   "source": [
    "We have data from ground penetrating radar (GPR) experiment.\n",
    "There are 6 sources and 6 receivers, therefore 36 observations.\n",
    "Forward operator in this case is a matrix acting on slowness field defined on a grid.\n",
    "The result is vector of 36 observations."
   ]
  },
  {
   "cell_type": "code",
   "execution_count": 19,
   "metadata": {},
   "outputs": [],
   "source": [
    "# Load matlab data to python\n",
    "data = sio.loadmat('data.mat')\n",
    "Forward = data['A'] # forward operator\n",
    "data_observed = data['dataobs5'] # 5th obsrvation data set\n",
    "N_data = 36 #number of observations (6 receivers x 6 sources)"
   ]
  },
  {
   "cell_type": "markdown",
   "metadata": {},
   "source": [
    "Domain is 6 m deep x 4 m wide.\n",
    "We discretize it into 0.1 m x 0.1 m cells"
   ]
  },
  {
   "cell_type": "code",
   "execution_count": 20,
   "metadata": {},
   "outputs": [],
   "source": [
    "nx = 40\n",
    "ny = 60"
   ]
  },
  {
   "cell_type": "markdown",
   "metadata": {},
   "source": [
    "We assume there are 4 layers, each layer has a different porosity:\n",
    "* 0 - 2 m\n",
    "* 2 - 3 m\n",
    "* 3 - 5 m\n",
    "* 5 - 6 m\n",
    "\n",
    "Hence corresponding indices:"
   ]
  },
  {
   "cell_type": "code",
   "execution_count": 21,
   "metadata": {},
   "outputs": [],
   "source": [
    "l1 = 20\n",
    "l2 = 30\n",
    "l3 = 50\n",
    "l4 = 60"
   ]
  },
  {
   "cell_type": "markdown",
   "metadata": {},
   "source": [
    "Slowness field can be calculated from porosities in the following way.\n",
    "\n",
    "CRIM equation under saturated conditions:\n",
    "$$\\sqrt{\\kappa} = (1-\\phi)\\sqrt{\\kappa_s}+\\phi\\sqrt{\\kappa_w}$$\n",
    "* $\\kappa$ efective relative permittivity\n",
    "* $\\kappa_s=5$ relative permittivity of the grains\n",
    "* $\\kappa_w=81$ relative permittivity of water\n",
    "* $\\phi$ porosity\n",
    "\n",
    "$s=\\frac{\\sqrt{\\kappa}}{c}$\n",
    "* $c=0.3$ (m/ns), speed of light\n",
    "* $s$, slowness"
   ]
  },
  {
   "cell_type": "code",
   "execution_count": 29,
   "metadata": {},
   "outputs": [],
   "source": [
    "kappa_s = 5 # relative permittivity of the grains\n",
    "kappa_w = 81 # relative permittivity of water\n",
    "c = 0.3 # speed of light in m/ns\n",
    "\n",
    "def slowness(porosity):\n",
    "    \"\"\"\n",
    "    Slowness in CRIM model\n",
    "    c is constant, speed of light\n",
    "    :param porosity: porosity\n",
    "    :return : slowness in ns/m\n",
    "    \"\"\"\n",
    "    return ((1-porosity)*np.sqrt(kappa_s)+porosity*np.sqrt(kappa_w))/c"
   ]
  },
  {
   "cell_type": "markdown",
   "metadata": {},
   "source": [
    "We make a prior assumption that porosities have uniform distribution between 0.2 and 0.4."
   ]
  },
  {
   "cell_type": "code",
   "execution_count": 97,
   "metadata": {},
   "outputs": [],
   "source": [
    "def random_porosity(n):\n",
    "    \"\"\"\n",
    "    Returns random number between 0.2, 0.4\n",
    "    :param n: size of output random vector\n",
    "    :return : uniform random vector of size n in [0.2, 0.4]\n",
    "    \"\"\"\n",
    "    return np.random.uniform(low=0.2, high=0.4, size=n)"
   ]
  },
  {
   "cell_type": "markdown",
   "metadata": {},
   "source": [
    "## Rejection sampling"
   ]
  },
  {
   "cell_type": "markdown",
   "metadata": {},
   "source": [
    "We will compute porosities distribution using rejection sampling.\n",
    "\n",
    "Likelihood function ($d_0$ are observed data and $d$ simulated data):\n",
    "$$L(m|d) = \\left(\\frac{1}{\\sqrt{2\\pi}\\sigma}\\right)^N \\exp\\left(-\\frac{1}{2}\\frac{||d-d_0||^2}{\\sigma^2}\\right)$$\n",
    "Supremum of likelihood function:\n",
    "$$S_L = \\left(\\frac{1}{\\sqrt{2\\pi}\\sigma}\\right)^N \\exp\\left(-0.5N\\right)$$\n",
    "In this case:\n",
    "* we assume that error is known ($\\sigma=1$ ns)\n",
    "* number of observations $N=36$"
   ]
  },
  {
   "cell_type": "code",
   "execution_count": 98,
   "metadata": {},
   "outputs": [],
   "source": [
    "sigma = 1 # standard deviation\n",
    "def likelihood(d, d0):\n",
    "    \"\"\"\n",
    "    Likelihood function.\n",
    "    :param d: simulated data vector\n",
    "    :param d0: observed data vector\n",
    "    :return : likelihood function\n",
    "    \"\"\"\n",
    "    return (1/(np.sqrt(2*np.pi)*sigma))**N_data * np.exp(-0.5*np.sum((d-d0)*(d-d0))/sigma**2)\n",
    "\n",
    "sup_likelihood = (1/(np.sqrt(2*np.pi)*sigma))**N_data * np.exp(-0.5*N_data)"
   ]
  },
  {
   "cell_type": "markdown",
   "metadata": {},
   "source": [
    "The rejection sampling algorithm for this specific problem is implemented as follows"
   ]
  },
  {
   "cell_type": "code",
   "execution_count": 99,
   "metadata": {},
   "outputs": [],
   "source": [
    "def rejection_sampling_solution(nsamples):\n",
    "    \"\"\"\n",
    "    :param nsamples: number of samples\n",
    "    :return : 2d numpy array of sampled porosities for 4 layers\n",
    "    \"\"\"\n",
    "    porosities_list = []\n",
    "    porosity = np.zeros((nx, ny))\n",
    "    for i in np.arange(nsamples):\n",
    "        p = random_porosity(4)\n",
    "        porosity[0:nx, 0:l1] =  p[0]\n",
    "        porosity[0:nx, l1:l2] = p[1]\n",
    "        porosity[0:nx, l2:l3] = p[2]\n",
    "        porosity[0:nx, l3:l4] = p[3]\n",
    "        data_sim = Forward.dot(slowness(porosity).flatten('F'))\n",
    "        if np.random.uniform(0,1,1) < likelihood(data_sim, data_observed.flatten())/sup_likelihood :\n",
    "            porosities_list.append(p)\n",
    "    return np.vstack(porosities_list)"
   ]
  },
  {
   "cell_type": "markdown",
   "metadata": {},
   "source": [
    "We need a lot of samples in order to get rather poor statistics."
   ]
  },
  {
   "cell_type": "code",
   "execution_count": 101,
   "metadata": {},
   "outputs": [
    {
     "data": {
      "image/png": "[encoded data removed]",
      "text/plain": [
       "<matplotlib.figure.Figure at 0x7fe8797bfb38>"
      ]
     },
     "metadata": {},
     "output_type": "display_data"
    }
   ],
   "source": [
    "Porosities = rejection_sampling_solution(1e6)\n",
    "fig, axes = plt.subplots(ncols=4, figsize=(12,6))\n",
    "i = 0\n",
    "for ax in axes:\n",
    "    ax.set_title('Porosity of layer ' + str(i+1))\n",
    "    ax.hist(Porosities[:,i], 10)\n",
    "    i += 1\n",
    "fig.tight_layout()"
   ]
  },
  {
   "cell_type": "code",
   "execution_count": null,
   "metadata": {},
   "outputs": [],
   "source": []
  }
 ],
 "metadata": {
  "kernelspec": {
   "display_name": "Python 3",
   "language": "python",
   "name": "python3"
  },
  "language_info": {
   "codemirror_mode": {
    "name": "ipython",
    "version": 3
   },
   "file_extension": ".py",
   "mimetype": "text/x-python",
   "name": "python",
   "nbconvert_exporter": "python",
   "pygments_lexer": "ipython3",
   "version": "3.6.4"
  }
 },
 "nbformat": 4,
 "nbformat_minor": 2
}
